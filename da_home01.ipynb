{
  "nbformat": 4,
  "nbformat_minor": 0,
  "metadata": {
    "colab": {
      "provenance": []
    },
    "kernelspec": {
      "name": "python3",
      "display_name": "Python 3"
    },
    "language_info": {
      "name": "python"
    }
  },
  "cells": [
    {
      "cell_type": "code",
      "execution_count": null,
      "metadata": {
        "id": "PB0HiX9P12f8"
      },
      "outputs": [],
      "source": []
    },
    {
      "cell_type": "code",
      "source": [
        "from google.colab import drive\n",
        "drive.mount('/content/drive')"
      ],
      "metadata": {
        "id": "AQR2gftC15pz"
      },
      "execution_count": null,
      "outputs": []
    },
    {
      "cell_type": "code",
      "source": [
        "import json\n",
        "with open('countries.json') as read_file:\n",
        "    a = json.load(read_file)\n",
        "countries = []\n",
        "for i in range(len(a)):\n",
        "    if ('A' in a[i]['name']):\n",
        "        print(a[i]['name'])"
      ],
      "metadata": {
        "colab": {
          "base_uri": "https://localhost:8080/"
        },
        "id": "Zj4u3J2s2AcH",
        "outputId": "e2cefa7f-8dfd-4878-c8b3-3e0c8dc72fb4"
      },
      "execution_count": null,
      "outputs": [
        {
          "output_type": "stream",
          "name": "stdout",
          "text": [
            "Afghanistan\n",
            "Albania\n",
            "Algeria\n",
            "American Samoa\n",
            "AndorrA\n",
            "Angola\n",
            "Anguilla\n",
            "Antarctica\n",
            "Antigua and Barbuda\n",
            "Argentina\n",
            "Armenia\n",
            "Aruba\n",
            "Australia\n",
            "Austria\n",
            "Azerbaijan\n",
            "Central African Republic\n",
            "Libyan Arab Jamahiriya\n",
            "Netherlands Antilles\n",
            "RWANDA\n",
            "Saudi Arabia\n",
            "South Africa\n",
            "Syrian Arab Republic\n",
            "United Arab Emirates\n"
          ]
        }
      ]
    }
  ]
}